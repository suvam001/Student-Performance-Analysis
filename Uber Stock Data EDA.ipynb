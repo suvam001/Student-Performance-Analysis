{
 "cells": [
  {
   "cell_type": "markdown",
   "id": "0d8aafb1",
   "metadata": {},
   "source": [
    "# Understanding the dataset"
   ]
  },
  {
   "cell_type": "markdown",
   "id": "f0296d9f",
   "metadata": {},
   "source": [
    "#### The dataset is the UBER stocks dataset that contains seven records, including date, opening value of the stock, closing value of the stock, high and low values of stock that day, the adjacent closing value of the stock, and the volume of stocks that had been traded that day."
   ]
  },
  {
   "cell_type": "code",
   "execution_count": 24,
   "id": "d32fd931",
   "metadata": {},
   "outputs": [],
   "source": [
    "import pandas as pd\n",
    "import seaborn as sns\n",
    "import matplotlib.pyplot as plt"
   ]
  },
  {
   "cell_type": "code",
   "execution_count": 25,
   "id": "65815a8f",
   "metadata": {},
   "outputs": [
    {
     "data": {
      "text/html": [
       "<div>\n",
       "<style scoped>\n",
       "    .dataframe tbody tr th:only-of-type {\n",
       "        vertical-align: middle;\n",
       "    }\n",
       "\n",
       "    .dataframe tbody tr th {\n",
       "        vertical-align: top;\n",
       "    }\n",
       "\n",
       "    .dataframe thead th {\n",
       "        text-align: right;\n",
       "    }\n",
       "</style>\n",
       "<table border=\"1\" class=\"dataframe\">\n",
       "  <thead>\n",
       "    <tr style=\"text-align: right;\">\n",
       "      <th></th>\n",
       "      <th>Date</th>\n",
       "      <th>Open</th>\n",
       "      <th>High</th>\n",
       "      <th>Low</th>\n",
       "      <th>Close</th>\n",
       "      <th>Adj Close</th>\n",
       "      <th>Volume</th>\n",
       "    </tr>\n",
       "  </thead>\n",
       "  <tbody>\n",
       "    <tr>\n",
       "      <th>0</th>\n",
       "      <td>2019-05-10</td>\n",
       "      <td>42.000000</td>\n",
       "      <td>45.000000</td>\n",
       "      <td>41.060001</td>\n",
       "      <td>41.570000</td>\n",
       "      <td>41.570000</td>\n",
       "      <td>186322500</td>\n",
       "    </tr>\n",
       "    <tr>\n",
       "      <th>1</th>\n",
       "      <td>2019-05-13</td>\n",
       "      <td>38.790001</td>\n",
       "      <td>39.240002</td>\n",
       "      <td>36.080002</td>\n",
       "      <td>37.099998</td>\n",
       "      <td>37.099998</td>\n",
       "      <td>79442400</td>\n",
       "    </tr>\n",
       "    <tr>\n",
       "      <th>2</th>\n",
       "      <td>2019-05-14</td>\n",
       "      <td>38.310001</td>\n",
       "      <td>39.959999</td>\n",
       "      <td>36.849998</td>\n",
       "      <td>39.959999</td>\n",
       "      <td>39.959999</td>\n",
       "      <td>46661100</td>\n",
       "    </tr>\n",
       "    <tr>\n",
       "      <th>3</th>\n",
       "      <td>2019-05-15</td>\n",
       "      <td>39.369999</td>\n",
       "      <td>41.880001</td>\n",
       "      <td>38.950001</td>\n",
       "      <td>41.290001</td>\n",
       "      <td>41.290001</td>\n",
       "      <td>36086100</td>\n",
       "    </tr>\n",
       "    <tr>\n",
       "      <th>4</th>\n",
       "      <td>2019-05-16</td>\n",
       "      <td>41.480000</td>\n",
       "      <td>44.060001</td>\n",
       "      <td>41.250000</td>\n",
       "      <td>43.000000</td>\n",
       "      <td>43.000000</td>\n",
       "      <td>38115500</td>\n",
       "    </tr>\n",
       "  </tbody>\n",
       "</table>\n",
       "</div>"
      ],
      "text/plain": [
       "         Date       Open       High        Low      Close  Adj Close  \\\n",
       "0  2019-05-10  42.000000  45.000000  41.060001  41.570000  41.570000   \n",
       "1  2019-05-13  38.790001  39.240002  36.080002  37.099998  37.099998   \n",
       "2  2019-05-14  38.310001  39.959999  36.849998  39.959999  39.959999   \n",
       "3  2019-05-15  39.369999  41.880001  38.950001  41.290001  41.290001   \n",
       "4  2019-05-16  41.480000  44.060001  41.250000  43.000000  43.000000   \n",
       "\n",
       "      Volume  \n",
       "0  186322500  \n",
       "1   79442400  \n",
       "2   46661100  \n",
       "3   36086100  \n",
       "4   38115500  "
      ]
     },
     "execution_count": 25,
     "metadata": {},
     "output_type": "execute_result"
    }
   ],
   "source": [
    "data = pd.read_csv(\"UBER.csv\")\n",
    "data.head()"
   ]
  },
  {
   "cell_type": "code",
   "execution_count": 26,
   "id": "53b9c069",
   "metadata": {},
   "outputs": [
    {
     "data": {
      "text/html": [
       "<div>\n",
       "<style scoped>\n",
       "    .dataframe tbody tr th:only-of-type {\n",
       "        vertical-align: middle;\n",
       "    }\n",
       "\n",
       "    .dataframe tbody tr th {\n",
       "        vertical-align: top;\n",
       "    }\n",
       "\n",
       "    .dataframe thead th {\n",
       "        text-align: right;\n",
       "    }\n",
       "</style>\n",
       "<table border=\"1\" class=\"dataframe\">\n",
       "  <thead>\n",
       "    <tr style=\"text-align: right;\">\n",
       "      <th></th>\n",
       "      <th>Open</th>\n",
       "      <th>High</th>\n",
       "      <th>Low</th>\n",
       "      <th>Close</th>\n",
       "      <th>Adj Close</th>\n",
       "      <th>Volume</th>\n",
       "    </tr>\n",
       "  </thead>\n",
       "  <tbody>\n",
       "    <tr>\n",
       "      <th>count</th>\n",
       "      <td>634.000000</td>\n",
       "      <td>634.000000</td>\n",
       "      <td>634.000000</td>\n",
       "      <td>634.000000</td>\n",
       "      <td>634.000000</td>\n",
       "      <td>6.340000e+02</td>\n",
       "    </tr>\n",
       "    <tr>\n",
       "      <th>mean</th>\n",
       "      <td>40.507774</td>\n",
       "      <td>41.274827</td>\n",
       "      <td>39.623454</td>\n",
       "      <td>40.448707</td>\n",
       "      <td>40.448707</td>\n",
       "      <td>2.351917e+07</td>\n",
       "    </tr>\n",
       "    <tr>\n",
       "      <th>std</th>\n",
       "      <td>9.652290</td>\n",
       "      <td>9.729066</td>\n",
       "      <td>9.511428</td>\n",
       "      <td>9.589767</td>\n",
       "      <td>9.589767</td>\n",
       "      <td>1.696142e+07</td>\n",
       "    </tr>\n",
       "    <tr>\n",
       "      <th>min</th>\n",
       "      <td>15.960000</td>\n",
       "      <td>17.799999</td>\n",
       "      <td>13.710000</td>\n",
       "      <td>14.820000</td>\n",
       "      <td>14.820000</td>\n",
       "      <td>3.380000e+06</td>\n",
       "    </tr>\n",
       "    <tr>\n",
       "      <th>25%</th>\n",
       "      <td>32.522500</td>\n",
       "      <td>33.153750</td>\n",
       "      <td>31.652500</td>\n",
       "      <td>32.592500</td>\n",
       "      <td>32.592500</td>\n",
       "      <td>1.361415e+07</td>\n",
       "    </tr>\n",
       "    <tr>\n",
       "      <th>50%</th>\n",
       "      <td>39.900002</td>\n",
       "      <td>40.639999</td>\n",
       "      <td>39.055000</td>\n",
       "      <td>39.914999</td>\n",
       "      <td>39.914999</td>\n",
       "      <td>1.926890e+07</td>\n",
       "    </tr>\n",
       "    <tr>\n",
       "      <th>75%</th>\n",
       "      <td>47.807500</td>\n",
       "      <td>48.815001</td>\n",
       "      <td>47.140002</td>\n",
       "      <td>47.730000</td>\n",
       "      <td>47.730000</td>\n",
       "      <td>2.830438e+07</td>\n",
       "    </tr>\n",
       "    <tr>\n",
       "      <th>max</th>\n",
       "      <td>63.250000</td>\n",
       "      <td>64.050003</td>\n",
       "      <td>60.799999</td>\n",
       "      <td>63.180000</td>\n",
       "      <td>63.180000</td>\n",
       "      <td>1.863225e+08</td>\n",
       "    </tr>\n",
       "  </tbody>\n",
       "</table>\n",
       "</div>"
      ],
      "text/plain": [
       "             Open        High         Low       Close   Adj Close  \\\n",
       "count  634.000000  634.000000  634.000000  634.000000  634.000000   \n",
       "mean    40.507774   41.274827   39.623454   40.448707   40.448707   \n",
       "std      9.652290    9.729066    9.511428    9.589767    9.589767   \n",
       "min     15.960000   17.799999   13.710000   14.820000   14.820000   \n",
       "25%     32.522500   33.153750   31.652500   32.592500   32.592500   \n",
       "50%     39.900002   40.639999   39.055000   39.914999   39.914999   \n",
       "75%     47.807500   48.815001   47.140002   47.730000   47.730000   \n",
       "max     63.250000   64.050003   60.799999   63.180000   63.180000   \n",
       "\n",
       "             Volume  \n",
       "count  6.340000e+02  \n",
       "mean   2.351917e+07  \n",
       "std    1.696142e+07  \n",
       "min    3.380000e+06  \n",
       "25%    1.361415e+07  \n",
       "50%    1.926890e+07  \n",
       "75%    2.830438e+07  \n",
       "max    1.863225e+08  "
      ]
     },
     "execution_count": 26,
     "metadata": {},
     "output_type": "execute_result"
    }
   ],
   "source": [
    "data.describe() #Helps us get more insight into the dataset"
   ]
  },
  {
   "cell_type": "markdown",
   "id": "db5c93fe",
   "metadata": {},
   "source": [
    "##### From the above table, we can get several insights into the dataset. We can know a lot of useful information from the above table such as mean, standard deviation, value counts, and how often a value occurs in the dataset."
   ]
  },
  {
   "cell_type": "markdown",
   "id": "df53b6f0",
   "metadata": {},
   "source": [
    "#### Null value check"
   ]
  },
  {
   "cell_type": "code",
   "execution_count": 27,
   "id": "1d38c2e0",
   "metadata": {},
   "outputs": [
    {
     "data": {
      "text/plain": [
       "<AxesSubplot:>"
      ]
     },
     "execution_count": 27,
     "metadata": {},
     "output_type": "execute_result"
    },
    {
     "data": {
      "image/png": "[encoded data removed]",
      "text/plain": [
       "<Figure size 432x288 with 1 Axes>"
      ]
     },
     "metadata": {
      "needs_background": "light"
     },
     "output_type": "display_data"
    }
   ],
   "source": [
    "sns.heatmap(data.isnull(), cbar=False) # to check null values"
   ]
  },
  {
   "cell_type": "markdown",
   "id": "942a532e",
   "metadata": {},
   "source": [
    "###### As we can see there are no null values in the dataset"
   ]
  },
  {
   "cell_type": "code",
   "execution_count": null,
   "id": "f6e26d91",
   "metadata": {},
   "outputs": [],
   "source": [
    "#Getting the general sense of the data\n",
    "\n",
    "sns.pairplot(data,height=5)"
   ]
  },
  {
   "cell_type": "markdown",
   "id": "fe7caa8c",
   "metadata": {},
   "source": [
    "#### Finding correlation"
   ]
  },
  {
   "cell_type": "code",
   "execution_count": null,
   "id": "18625578",
   "metadata": {},
   "outputs": [],
   "source": [
    "plt.figure(figsize=(7,5))\n",
    "sns.heatmap(data.corr(),cmap='Blues',annot=True)"
   ]
  },
  {
   "cell_type": "markdown",
   "id": "5f59f258",
   "metadata": {},
   "source": [
    "###### From the above heatmap, you can see a large number of 1s and values close to 1. This means those variables show high positive correlations and are interrelated. This might be possible because of the comparatively very small difference between those values. However, in-stock market this small value is what makes the difference. So, what we are going to do, is add new variables to our dataset that represents the difference between those values."
   ]
  },
  {
   "cell_type": "code",
   "execution_count": null,
   "id": "3c9c4924",
   "metadata": {},
   "outputs": [],
   "source": [
    "data['open-high'] = data['Open']-data['High']\n",
    "data['open-low'] = data['Open'] - data['Low']\n",
    "data['close-high'] = data['Close']-data['High']\n",
    "data['close-low'] = data['Close'] - data['Low']\n",
    "data['high-low'] = data['High'] - data['Low']\n",
    "data['open-close'] = data['Open'] - data['Close']\n",
    "data.head(5)"
   ]
  },
  {
   "cell_type": "markdown",
   "id": "2fa9a692",
   "metadata": {},
   "source": [
    "###### We have added 6 new entries to our dataset. We can now create a heatmap with these new values and see their inter-correlation."
   ]
  },
  {
   "cell_type": "code",
   "execution_count": null,
   "id": "1db2ea93",
   "metadata": {},
   "outputs": [],
   "source": [
    "data2 = data.copy()\n",
    "data2 = data2.drop(['Open','High','Low','Close', 'Adj Close'],axis=1)\n",
    "plt.figure(figsize=(7,5))\n",
    "sns.heatmap(data2.corr(),cmap='Blues',annot=True)"
   ]
  },
  {
   "cell_type": "code",
   "execution_count": null,
   "id": "2d758a99",
   "metadata": {},
   "outputs": [],
   "source": [
    "#Some more multivariate analysis"
   ]
  },
  {
   "cell_type": "code",
   "execution_count": null,
   "id": "a1bec019",
   "metadata": {},
   "outputs": [],
   "source": [
    "sns.barplot(data=data, x = \"open-high\", y=\"Volume\")"
   ]
  },
  {
   "cell_type": "markdown",
   "id": "54fc8124",
   "metadata": {},
   "source": [
    "###### The ‘high-low’ feature shows the maximum value of correlation with the ‘volume’ feature. Thus we can think that a greater fluctuation in the stock price may be a reason behind more transactions of stocks that day.\n",
    "\n",
    "###### From the below graph you can observe the volume of stocks traded is high for larger values of high-low."
   ]
  },
  {
   "cell_type": "code",
   "execution_count": null,
   "id": "505633c9",
   "metadata": {},
   "outputs": [],
   "source": [
    "sns.barplot(data=data, x = \"high-low\", y=\"Volume\")"
   ]
  },
  {
   "cell_type": "markdown",
   "id": "7052b6b6",
   "metadata": {},
   "source": [
    "###### Thus from this EDA we were able to get a broad outlook on the data and  gain useful insights."
   ]
  },
  {
   "cell_type": "code",
   "execution_count": null,
   "id": "db4d89f6",
   "metadata": {},
   "outputs": [],
   "source": []
  }
 ],
 "metadata": {
  "kernelspec": {
   "display_name": "Python 3",
   "language": "python",
   "name": "python3"
  },
  "language_info": {
   "codemirror_mode": {
    "name": "ipython",
    "version": 3
   },
   "file_extension": ".py",
   "mimetype": "text/x-python",
   "name": "python",
   "nbconvert_exporter": "python",
   "pygments_lexer": "ipython3",
   "version": "3.8.8"
  }
 },
 "nbformat": 4,
 "nbformat_minor": 5
}
